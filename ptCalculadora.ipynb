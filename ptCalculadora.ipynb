{
 "cells": [
  {
   "cell_type": "markdown",
   "metadata": {},
   "source": [
    "# Exemplo de calculadora usando o PLY (Python Lex-Yacc)"
   ]
  },
  {
   "cell_type": "markdown",
   "metadata": {},
   "source": [
    "## Importando o ply"
   ]
  },
  {
   "cell_type": "code",
   "execution_count": 9,
   "metadata": {},
   "outputs": [],
   "source": [
    "from ply.lex import lex\n",
    "from ply.yacc import yacc"
   ]
  },
  {
   "cell_type": "markdown",
   "metadata": {},
   "source": [
    "Gramatica:\n",
    "\n",
    "S' -> S <br>\n",
    "S -> variavel igual EXPRESSAO <br>\n",
    "EXPRESSAO -> numero OPERACAO numero <br>\n",
    "OPERACAO -> mais <br>\n",
    "OPERACAO -> menos <br>\n",
    "OPERACAO -> vezes <br>\n",
    "OPERACAO -> dividido <br>"
   ]
  },
  {
   "cell_type": "markdown",
   "metadata": {},
   "source": [
    "## Analisador Lexico (Lex)"
   ]
  },
  {
   "cell_type": "code",
   "execution_count": 10,
   "metadata": {},
   "outputs": [
    {
     "data": {
      "text/plain": [
       "('mais', 'menos', 'vezes', 'dividido', 'igual')"
      ]
     },
     "execution_count": 10,
     "metadata": {},
     "output_type": "execute_result"
    }
   ],
   "source": [
    "\n",
    "# nome dos tokens de operadores e constantes\n",
    "reservados = ('mais','menos','vezes','dividido','igual') \n",
    "\n",
    "# expressões regulares para tokens de operadores e constantes\n",
    "t_mais = r'mais'\n",
    "t_menos = r'menos'\n",
    "t_vezes = r'vezes'\n",
    "t_dividido = r'dividido'\n",
    "t_igual = r'igual'\n",
    "\n",
    "reservados"
   ]
  },
  {
   "cell_type": "code",
   "execution_count": 11,
   "metadata": {},
   "outputs": [
    {
     "data": {
      "text/plain": [
       "('mais', 'menos', 'vezes', 'dividido', 'igual', 'numero', 'variavel')"
      ]
     },
     "execution_count": 11,
     "metadata": {},
     "output_type": "execute_result"
    }
   ],
   "source": [
    "def t_variavel(t): # como esse é o token mais expressivo, utilizamos essa função para diferenciar as palavras reservadas dele\n",
    "    r'[a-zA-Z_][a-zA-Z0-9_]*'\n",
    "    if t.value in reservados: # igual\n",
    "        t.type = t.value\n",
    "    return t\n",
    "\n",
    "\n",
    "def t_numero(t): # aqui definimos o token numero, ele nesse caso converte o valor direto para um inteiro, mas poderia ser um float\n",
    "    r'\\d+'\n",
    "    t.value = int(t.value)\n",
    "    return t\n",
    "\n",
    "t_ignore = ' \\t\\n' # ignora espaços e tabs\n",
    "\n",
    "def t_error(t): # nos dizer qual caractere ilegal e se tem erro\n",
    "    print(\"Caracter ilegal: \", t.value[0])\n",
    "    t.lexer.skip(1)\n",
    "\n",
    "tokens = reservados + ('numero','variavel')\n",
    "tokens"
   ]
  },
  {
   "cell_type": "code",
   "execution_count": 12,
   "metadata": {},
   "outputs": [
    {
     "name": "stderr",
     "output_type": "stream",
     "text": [
      "lex: tokens   = ('mais', 'menos', 'vezes', 'dividido', 'igual', 'numero', 'variavel')\n",
      "lex: literals = ''\n",
      "lex: states   = {'INITIAL': 'inclusive'}\n",
      "lex: Adding rule t_variavel -> '[a-zA-Z_][a-zA-Z0-9_]*' (state 'INITIAL')\n",
      "lex: Adding rule t_numero -> '\\d+' (state 'INITIAL')\n",
      "lex: Adding rule t_dividido -> 'dividido' (state 'INITIAL')\n",
      "lex: Adding rule t_menos -> 'menos' (state 'INITIAL')\n",
      "lex: Adding rule t_vezes -> 'vezes' (state 'INITIAL')\n",
      "lex: Adding rule t_igual -> 'igual' (state 'INITIAL')\n",
      "lex: Adding rule t_mais -> 'mais' (state 'INITIAL')\n",
      "lex: ==== MASTER REGEXS FOLLOW ====\n",
      "lex: state 'INITIAL' : regex[0] = '(?P<t_variavel>[a-zA-Z_][a-zA-Z0-9_]*)|(?P<t_numero>\\d+)|(?P<t_dividido>dividido)|(?P<t_menos>menos)|(?P<t_vezes>vezes)|(?P<t_igual>igual)|(?P<t_mais>mais)'\n"
     ]
    }
   ],
   "source": [
    "__file__ = 'ptCalculadora.ipynb' # somente para funcionar no jupyter notebook\n",
    "\n",
    "lexer = lex(debug=True) # construção do lexer"
   ]
  },
  {
   "cell_type": "markdown",
   "metadata": {},
   "source": [
    "## Analisador Sintatico (Yacc)"
   ]
  },
  {
   "cell_type": "code",
   "execution_count": 13,
   "metadata": {},
   "outputs": [],
   "source": [
    "def p_S(regras): # regas é um array!\n",
    "    '''\n",
    "    S : variavel igual EXPRESSAO\n",
    "    '''\n",
    "\n",
    "    regras[0] = f\"{regras[1]} = {regras[3]}\"\n",
    "\n",
    "\n",
    "def p_EXPRESSAO(regras):\n",
    "    '''\n",
    "    EXPRESSAO : numero OPERACAO numero\n",
    "    '''\n",
    "    \n",
    "    regras[0] = f\"{regras[1]}{regras[2]}{regras[3]}\"\n",
    "\n",
    "\n",
    "def p_OPERACAO(regras):\n",
    "    '''\n",
    "    OPERACAO : mais\n",
    "             | menos\n",
    "             | vezes\n",
    "             | dividido\n",
    "    '''\n",
    "    if regras[1] == 'mais':\n",
    "        regras[0] = \"+\"\n",
    "    elif regras[1] == 'menos':\n",
    "        regras[0] = \"-\"\n",
    "    elif regras[1] == 'vezes':\n",
    "        regras[0] = \"*\"\n",
    "    elif regras[1] == 'dividido':\n",
    "        regras[0] = \"/\"\n",
    "\n"
   ]
  },
  {
   "cell_type": "code",
   "execution_count": 14,
   "metadata": {},
   "outputs": [],
   "source": [
    "def p_error(regras):\n",
    "    print(\"Erro de sintaxe\"+ str(regras))\n",
    "\n",
    "parser = yacc(debug=True) # construção do parser"
   ]
  },
  {
   "cell_type": "code",
   "execution_count": 15,
   "metadata": {},
   "outputs": [
    {
     "data": {
      "text/plain": [
       "'xyz = 5/3'"
      ]
     },
     "execution_count": 15,
     "metadata": {},
     "output_type": "execute_result"
    }
   ],
   "source": [
    "parser.parse('xyz igual 5 dividido 3')"
   ]
  }
 ],
 "metadata": {
  "kernelspec": {
   "display_name": "Python 3",
   "language": "python",
   "name": "python3"
  },
  "language_info": {
   "codemirror_mode": {
    "name": "ipython",
    "version": 3
   },
   "file_extension": ".py",
   "mimetype": "text/x-python",
   "name": "python",
   "nbconvert_exporter": "python",
   "pygments_lexer": "ipython3",
   "version": "3.8.10"
  }
 },
 "nbformat": 4,
 "nbformat_minor": 2
}
